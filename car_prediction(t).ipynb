{
 "cells": [
  {
   "cell_type": "code",
   "execution_count": null,
   "id": "96d82254-8ad2-4270-bf89-8c7618cf71b4",
   "metadata": {},
   "outputs": [],
   "source": [
    "import pandas as pd\n",
    "import matplotlib.pyplot as plt\n",
    "import seaborn as sns\n",
    "import numpy as np\n",
    "from sklearn.linear_model import LinearRegression\n",
    "from sklearn.metrics import r2_score\n",
    "from sklearn.preprocessing import OneHotEncoder\n",
    "from sklearn.compose import make_column_transformer\n",
    "from sklearn.pipeline import make_pipeline\n",
    "from sklearn.model_selection import train_test_split\n",
    "sns.set_theme(style=\"whitegrid\")\n",
    "\n",
    "data = pd.read_csv('Sport car price.csv')"
   ]
  },
  {
   "cell_type": "code",
   "execution_count": null,
   "id": "9c951f8e-7257-4c34-ae27-598373ff09cb",
   "metadata": {},
   "outputs": [],
   "source": [
    "data\n"
   ]
  },
  {
   "cell_type": "code",
   "execution_count": null,
   "id": "9f3334a7-c250-49bc-aff3-2cbd04e23489",
   "metadata": {},
   "outputs": [],
   "source": [
    "data.isnull().sum()"
   ]
  },
  {
   "cell_type": "code",
   "execution_count": null,
   "id": "147fae30-86d5-4867-a1a6-604965135698",
   "metadata": {},
   "outputs": [],
   "source": [
    "data = data.drop(columns = '0-60 MPH Time (seconds)',axis =1)"
   ]
  },
  {
   "cell_type": "code",
   "execution_count": null,
   "id": "8e7bdaf8-4c44-46d3-9628-3f3613936731",
   "metadata": {},
   "outputs": [],
   "source": [
    "data.info()"
   ]
  },
  {
   "cell_type": "code",
   "execution_count": null,
   "id": "7d89445c-d34e-4472-a78d-cfc9beeae5ad",
   "metadata": {},
   "outputs": [],
   "source": [
    "data['Price (in USD)'] = data['Price (in USD)'].str.replace(',','')"
   ]
  },
  {
   "cell_type": "code",
   "execution_count": null,
   "id": "3505ba4c-82fa-469f-b367-3aa170173d8e",
   "metadata": {},
   "outputs": [],
   "source": [
    "data['Price (in USD)'] = data['Price (in USD)'].astype(int)"
   ]
  },
  {
   "cell_type": "code",
   "execution_count": null,
   "id": "4f72a366-c438-4920-b685-345eeaeefd0b",
   "metadata": {},
   "outputs": [],
   "source": [
    "data.info()"
   ]
  },
  {
   "cell_type": "code",
   "execution_count": null,
   "id": "beb8e33b-57e6-40b8-bd44-26464298af79",
   "metadata": {},
   "outputs": [],
   "source": [
    "data"
   ]
  },
  {
   "cell_type": "code",
   "execution_count": null,
   "id": "72685c2c-d9a6-4663-8e28-f294253619ad",
   "metadata": {},
   "outputs": [],
   "source": [
    "data  = data.drop(columns = 'Torque (lb-ft)',axis=1)"
   ]
  },
  {
   "cell_type": "code",
   "execution_count": null,
   "id": "3f63e80d-8fd8-4454-91e3-117667c3a7ca",
   "metadata": {},
   "outputs": [],
   "source": [
    "data.info()"
   ]
  },
  {
   "cell_type": "code",
   "execution_count": null,
   "id": "2a0000ad-3136-45af-85af-e615ce06d6e6",
   "metadata": {},
   "outputs": [],
   "source": [
    "data"
   ]
  },
  {
   "cell_type": "code",
   "execution_count": null,
   "id": "eef28c50-5ee4-4ccf-8079-4822e21851fa",
   "metadata": {},
   "outputs": [],
   "source": [
    "data.isnull().sum()"
   ]
  },
  {
   "cell_type": "code",
   "execution_count": null,
   "id": "4d320309-8762-46fb-8a89-e88129ee0a9c",
   "metadata": {},
   "outputs": [],
   "source": [
    "data = data.reset_index(drop = True)"
   ]
  },
  {
   "cell_type": "code",
   "execution_count": null,
   "id": "00051812-24f5-486d-9f53-3bda221c0183",
   "metadata": {},
   "outputs": [],
   "source": [
    "data"
   ]
  },
  {
   "cell_type": "code",
   "execution_count": null,
   "id": "45f00b92-02e6-4817-896a-82132bb09ae2",
   "metadata": {},
   "outputs": [],
   "source": [
    "data.describe()"
   ]
  },
  {
   "cell_type": "code",
   "execution_count": null,
   "id": "568fe311-9fde-419c-9e46-d10b5743f62f",
   "metadata": {},
   "outputs": [],
   "source": [
    "data[data['Price (in USD)']>5e6]"
   ]
  },
  {
   "cell_type": "code",
   "execution_count": null,
   "id": "82ca7f97-5ef0-47e8-8757-42a5e799c3d5",
   "metadata": {},
   "outputs": [],
   "source": [
    "data = data[data['Price (in USD)']<5e6].reset_index(drop=True)"
   ]
  },
  {
   "cell_type": "code",
   "execution_count": null,
   "id": "b00e9e6a-7dd8-43a8-b77b-93545522d3e3",
   "metadata": {},
   "outputs": [],
   "source": [
    "data.info()"
   ]
  },
  {
   "cell_type": "code",
   "execution_count": null,
   "id": "0d4bf17b-8883-431a-b327-716e4224a769",
   "metadata": {},
   "outputs": [],
   "source": [
    " data = data[~data['Horsepower'].isna()]"
   ]
  },
  {
   "cell_type": "code",
   "execution_count": null,
   "id": "60c120f7-9fbc-4439-bbfa-6e93f36c811a",
   "metadata": {},
   "outputs": [],
   "source": [
    "data.info()"
   ]
  },
  {
   "cell_type": "code",
   "execution_count": null,
   "id": "8e560b17-f02a-4803-951b-9422b4a222ad",
   "metadata": {},
   "outputs": [],
   "source": [
    "x=data.drop(columns='Price (in USD)',axis=1)\n",
    "y=data['Price (in USD)']"
   ]
  },
  {
   "cell_type": "code",
   "execution_count": null,
   "id": "920d7eb6-843b-4a9a-9209-2ef093c93fc9",
   "metadata": {},
   "outputs": [],
   "source": [
    "x_train,x_test,y_train,y_test=train_test_split(x,y,test_size = 0.2)"
   ]
  },
  {
   "cell_type": "code",
   "execution_count": null,
   "id": "36569105-0eb1-4f86-9f87-614954049722",
   "metadata": {},
   "outputs": [],
   "source": [
    "ohe = OneHotEncoder()"
   ]
  },
  {
   "cell_type": "code",
   "execution_count": null,
   "id": "2dde0b69-0dea-4fa0-ac1c-25830c2bb1ad",
   "metadata": {},
   "outputs": [],
   "source": [
    "ohe.categories_"
   ]
  },
  {
   "cell_type": "code",
   "execution_count": null,
   "id": "b2fd63f1-c12d-484a-a9e0-123dc320b91b",
   "metadata": {},
   "outputs": [],
   "source": [
    "ohe.fit(x[['Car Make','Car Model','Engine Size (L)','Horsepower']])"
   ]
  },
  {
   "cell_type": "code",
   "execution_count": null,
   "id": "c6ba364a-6ac0-4652-b652-834cedc4894f",
   "metadata": {},
   "outputs": [],
   "source": [
    "column_trans = make_column_transformer((OneHotEncoder(categories = ohe.categories_),['Car Make','Car Model','Engine Size (L)','Horsepower']),remainder='passthrough')"
   ]
  },
  {
   "cell_type": "code",
   "execution_count": null,
   "id": "5ea7950c-ba4e-4db1-ab62-734b21a16695",
   "metadata": {},
   "outputs": [],
   "source": [
    "lr = LinearRegression()"
   ]
  },
  {
   "cell_type": "code",
   "execution_count": null,
   "id": "fcbc25ec-e183-427c-85e4-b164766919c6",
   "metadata": {},
   "outputs": [],
   "source": [
    "pipe=make_pipeline(column_trans,lr)"
   ]
  },
  {
   "cell_type": "code",
   "execution_count": null,
   "id": "b045c60f-199f-4242-83bb-5960f6deea48",
   "metadata": {},
   "outputs": [],
   "source": [
    "pipe.fit(x_train,y_train)"
   ]
  },
  {
   "cell_type": "code",
   "execution_count": null,
   "id": "e360cfc3-c461-4b8a-9b37-14c0f3193780",
   "metadata": {},
   "outputs": [],
   "source": [
    "y_pred = pipe.predict(x_test)"
   ]
  },
  {
   "cell_type": "code",
   "execution_count": null,
   "id": "4d829147-7c7b-45e0-993a-dc636c48eb67",
   "metadata": {},
   "outputs": [],
   "source": [
    "y_pred"
   ]
  },
  {
   "cell_type": "code",
   "execution_count": null,
   "id": "f7c61d56-8f81-4e8c-9400-da06fc3c0685",
   "metadata": {},
   "outputs": [],
   "source": [
    "r2_score(y_test,y_pred)"
   ]
  },
  {
   "cell_type": "code",
   "execution_count": null,
   "id": "e70f8882-14fb-4114-98cf-c44a5449c0db",
   "metadata": {},
   "outputs": [],
   "source": [
    "scores=[]\n",
    "for i in range(10):\n",
    "    x_train,x_test,y_train,y_test = train_test_split(x,y,test_size = 0.2,random_state = i)\n",
    "    lr = LinearRegression()\n",
    "    pipe = make_pipeline(column_trans,lr)\n",
    "    pipe.fit(x_train,y_train)\n",
    "    y_pred = pipe.predict(x_test)\n",
    "    scores.append(r2_score(y_test,y_pred))"
   ]
  },
  {
   "cell_type": "code",
   "execution_count": null,
   "id": "771f2b11-b7d2-4a1f-8edd-4b75bfbf54a6",
   "metadata": {},
   "outputs": [],
   "source": [
    "print(r2_score(y_test,y_pred),i)"
   ]
  },
  {
   "cell_type": "code",
   "execution_count": null,
   "id": "c4c4713d-538b-4907-b25b-bf94e24638ce",
   "metadata": {},
   "outputs": [],
   "source": [
    "np.argmax(scores)"
   ]
  },
  {
   "cell_type": "code",
   "execution_count": null,
   "id": "306337ab-b166-4b55-b2e5-51d771b88169",
   "metadata": {},
   "outputs": [],
   "source": [
    "scores[np.argmax(scores)]"
   ]
  },
  {
   "cell_type": "code",
   "execution_count": null,
   "id": "0cad539f-ffcc-4318-a73c-73f596b5510b",
   "metadata": {},
   "outputs": [],
   "source": [
    "    x_train,x_test,y_train,y_test = train_test_split(x,y,test_size = 0.2,random_state = np.argmax(scores))\n",
    "    lr = LinearRegression()\n",
    "    pipe = make_pipeline(column_trans,lr)\n",
    "    pipe.fit(x_train,y_train)\n",
    "    y_pred = pipe.predict(x_test)"
   ]
  },
  {
   "cell_type": "code",
   "execution_count": null,
   "id": "715607d1-0184-42a8-a9ad-419fca6c36de",
   "metadata": {},
   "outputs": [],
   "source": [
    "r2_score(y_test,y_pred)"
   ]
  },
  {
   "cell_type": "code",
   "execution_count": null,
   "id": "036bf8ce-088e-4760-969f-815d61651232",
   "metadata": {},
   "outputs": [],
   "source": [
    "data.to_csv('cardata.csv')"
   ]
  },
  {
   "cell_type": "code",
   "execution_count": null,
   "id": "57d66369-3fd1-44fb-a147-d2437a465433",
   "metadata": {},
   "outputs": [],
   "source": [
    "import pickle"
   ]
  },
  {
   "cell_type": "code",
   "execution_count": null,
   "id": "af638e86-e366-4621-97c8-e6eca68d35d1",
   "metadata": {},
   "outputs": [],
   "source": [
    "pickle.dump(pipe,open('LinearRegressionModel.pkl','wb'))"
   ]
  },
  {
   "cell_type": "code",
   "execution_count": null,
   "id": "5340494f-ae9b-4f02-a8db-5b088b84a19b",
   "metadata": {},
   "outputs": [],
   "source": [
    "pipe.predict(pd.DataFrame([['Porsche','911','2022']]),columns=['Car Make','Car Model','Year']"
   ]
  },
  {
   "cell_type": "code",
   "execution_count": null,
   "id": "4ba00b56-df9e-4559-891b-10be58eddcc0",
   "metadata": {},
   "outputs": [],
   "source": []
  }
 ],
 "metadata": {
  "kernelspec": {
   "display_name": "Python 3 (ipykernel)",
   "language": "python",
   "name": "python3"
  },
  "language_info": {
   "codemirror_mode": {
    "name": "ipython",
    "version": 3
   },
   "file_extension": ".py",
   "mimetype": "text/x-python",
   "name": "python",
   "nbconvert_exporter": "python",
   "pygments_lexer": "ipython3",
   "version": "3.11.3"
  }
 },
 "nbformat": 4,
 "nbformat_minor": 5
}
